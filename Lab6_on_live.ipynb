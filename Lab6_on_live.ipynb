{
  "nbformat": 4,
  "nbformat_minor": 0,
  "metadata": {
    "colab": {
      "name": "Lab6_on_live.ipynb",
      "provenance": [],
      "include_colab_link": true
    },
    "kernelspec": {
      "name": "python3",
      "display_name": "Python 3"
    },
    "language_info": {
      "name": "python"
    }
  },
  "cells": [
    {
      "cell_type": "markdown",
      "metadata": {
        "id": "view-in-github",
        "colab_type": "text"
      },
      "source": [
        "<a href=\"https://colab.research.google.com/github/heavy1368/ON2022/blob/main/Lab6_on_live.ipynb\" target=\"_parent\"><img src=\"https://colab.research.google.com/assets/colab-badge.svg\" alt=\"Open In Colab\"/></a>"
      ]
    },
    {
      "cell_type": "code",
      "execution_count": null,
      "metadata": {
        "id": "0j7bOFgFVgQy"
      },
      "outputs": [],
      "source": [
        ""
      ]
    },
    {
      "cell_type": "markdown",
      "source": [
        "## Algebra liniowa w Pythonie\n",
        "* ```np.linalg.inv ``` - odwrotność macierzy\n",
        "* ```np.linalg.det``` - wyznacznik\n",
        "* ```np.linalg.eig``` - wartości i wektory własne\n",
        "* ```np.dot``` - iloczyn macierzowy\n",
        "* ```np.inner``` - iloczyn skalarny\n",
        "* ```np.corss``` - iloczyn wektorowy\n",
        "\n",
        "* ```np.linalg.norm``` - norma macierzy lub wektora"
      ],
      "metadata": {
        "id": "MUfE_05AXxy2"
      }
    },
    {
      "cell_type": "code",
      "source": [
        "import numpy as np"
      ],
      "metadata": {
        "id": "mc1FIY9uX1bm"
      },
      "execution_count": 1,
      "outputs": []
    },
    {
      "cell_type": "code",
      "source": [
        "A=np.array([[2,3],[0,2]])\n",
        "B=np.array([[2,5],[3,8]])\n",
        "C=np.dot(B,np.dot(A,np.linalg.inv(B)))\n",
        "Eigenvalues=np.linalg.eig(A)\n"
      ],
      "metadata": {
        "id": "A5uob6PLaHdP"
      },
      "execution_count": null,
      "outputs": []
    },
    {
      "cell_type": "code",
      "source": [
        "np.max(Eigenvalues[0])"
      ],
      "metadata": {
        "colab": {
          "base_uri": "https://localhost:8080/"
        },
        "id": "J_8eaHYwaJRO",
        "outputId": "a2561409-644e-437e-ebfe-ee3326fd0136"
      },
      "execution_count": null,
      "outputs": [
        {
          "output_type": "execute_result",
          "data": {
            "text/plain": [
              "2.0"
            ]
          },
          "metadata": {},
          "execution_count": 7
        }
      ]
    },
    {
      "cell_type": "code",
      "source": [
        ""
      ],
      "metadata": {
        "id": "7JKrvg3uaRRZ"
      },
      "execution_count": null,
      "outputs": []
    },
    {
      "cell_type": "markdown",
      "source": [
        "#### Zad.1\n",
        "Macierze o wartościach własnych 1,2\n"
      ],
      "metadata": {
        "id": "8GJgEg2vbmLt"
      }
    },
    {
      "cell_type": "code",
      "source": [
        "B=np.array([[1,2],[3,4]])"
      ],
      "metadata": {
        "id": "Cd7ZNK_zbqaw"
      },
      "execution_count": null,
      "outputs": []
    },
    {
      "cell_type": "code",
      "source": [
        "np.linalg.det(B)"
      ],
      "metadata": {
        "colab": {
          "base_uri": "https://localhost:8080/"
        },
        "id": "-oh9rZdUbvJO",
        "outputId": "d334e8a5-8cb5-4c6b-8d50-65341a2c3d3c"
      },
      "execution_count": null,
      "outputs": [
        {
          "output_type": "execute_result",
          "data": {
            "text/plain": [
              "-2.0000000000000004"
            ]
          },
          "metadata": {},
          "execution_count": 10
        }
      ]
    },
    {
      "cell_type": "code",
      "source": [
        "C=np.dot(B,np.dot(np.diag([1,2]),np.linalg.inv(B)))"
      ],
      "metadata": {
        "id": "2Lu13y4qbyj4"
      },
      "execution_count": null,
      "outputs": []
    },
    {
      "cell_type": "code",
      "source": [
        "np.linalg.eig(C)"
      ],
      "metadata": {
        "colab": {
          "base_uri": "https://localhost:8080/"
        },
        "id": "6DYSsqY3cBlF",
        "outputId": "b4ce215b-afc2-43b9-d65a-13d0205c2478"
      },
      "execution_count": null,
      "outputs": [
        {
          "output_type": "execute_result",
          "data": {
            "text/plain": [
              "(array([2., 1.]), array([[0.4472136 , 0.31622777],\n",
              "        [0.89442719, 0.9486833 ]]))"
            ]
          },
          "metadata": {},
          "execution_count": 15
        }
      ]
    },
    {
      "cell_type": "code",
      "source": [
        "B @ B "
      ],
      "metadata": {
        "colab": {
          "base_uri": "https://localhost:8080/"
        },
        "id": "VQbWGTUlcHjl",
        "outputId": "ae2f84e4-c8be-4000-9757-b76a009c3750"
      },
      "execution_count": null,
      "outputs": [
        {
          "output_type": "execute_result",
          "data": {
            "text/plain": [
              "array([[ 7, 10],\n",
              "       [15, 22]])"
            ]
          },
          "metadata": {},
          "execution_count": 16
        }
      ]
    },
    {
      "cell_type": "code",
      "source": [
        "np.dot(B,B)"
      ],
      "metadata": {
        "colab": {
          "base_uri": "https://localhost:8080/"
        },
        "id": "X7bivPmCcQkA",
        "outputId": "a9d5662c-d1a6-4c18-ff4a-e4ebb6ff4f34"
      },
      "execution_count": null,
      "outputs": [
        {
          "output_type": "execute_result",
          "data": {
            "text/plain": [
              "array([[ 7, 10],\n",
              "       [15, 22]])"
            ]
          },
          "metadata": {},
          "execution_count": 17
        }
      ]
    },
    {
      "cell_type": "code",
      "source": [
        ""
      ],
      "metadata": {
        "id": "OSidr7gtcTrS"
      },
      "execution_count": null,
      "outputs": []
    },
    {
      "cell_type": "markdown",
      "source": [
        "#### Rozkłady macierzy\n",
        "* ```np.linalg.eig``` - to właściwie rozkład Jordana (macierz kwadratowa)\n",
        "* ```np.linalg.svd``` - rozkład SVD (ortogonalna, diagonalna, ortogonalna)\n",
        "* ```np.linalg.qr``` - rozkład QR (ortogonalna, górnotrójkątna)\n",
        "* ```scipy.linalg.lu``` - rozkład LU (dolnotrójkątna, górnotrójkątna)"
      ],
      "metadata": {
        "id": "FRpWUxOjciRA"
      }
    },
    {
      "cell_type": "code",
      "source": [
        ""
      ],
      "metadata": {
        "id": "nmavOOP5cihd"
      },
      "execution_count": null,
      "outputs": []
    },
    {
      "cell_type": "markdown",
      "source": [
        "#### Zadanie 2: SVD\n",
        "\n"
      ],
      "metadata": {
        "id": "rbk-hOS2dbzC"
      }
    },
    {
      "cell_type": "code",
      "source": [
        "A=np.random.random((5,5))\n",
        "A"
      ],
      "metadata": {
        "colab": {
          "base_uri": "https://localhost:8080/"
        },
        "id": "dMOtSlIbdgT6",
        "outputId": "67676a90-22ea-4d15-9def-55bae2fd5b21"
      },
      "execution_count": null,
      "outputs": [
        {
          "output_type": "execute_result",
          "data": {
            "text/plain": [
              "array([[0.37480706, 0.1869102 , 0.88450454, 0.27218647, 0.60516631],\n",
              "       [0.33508562, 0.25855324, 0.11685219, 0.29841565, 0.45549406],\n",
              "       [0.11779211, 0.08722226, 0.87930126, 0.9910624 , 0.31765611],\n",
              "       [0.95482542, 0.52510547, 0.43718157, 0.7524423 , 0.23630132],\n",
              "       [0.17152261, 0.83530153, 0.70537941, 0.08963202, 0.36817803]])"
            ]
          },
          "metadata": {},
          "execution_count": 25
        }
      ]
    },
    {
      "cell_type": "code",
      "source": [
        "SVD=np.linalg.svd(A)\n"
      ],
      "metadata": {
        "id": "83BjQGW7dj6N"
      },
      "execution_count": null,
      "outputs": []
    },
    {
      "cell_type": "code",
      "source": [
        "SVD[0] @ np.diag(SVD[1]) @ SVD[2]-A"
      ],
      "metadata": {
        "colab": {
          "base_uri": "https://localhost:8080/"
        },
        "id": "1zlPAWTrdq7j",
        "outputId": "583df966-ad47-4e56-b49e-089db9367521"
      },
      "execution_count": null,
      "outputs": [
        {
          "output_type": "execute_result",
          "data": {
            "text/plain": [
              "array([[-1.11022302e-16, -5.55111512e-16, -7.77156117e-16,\n",
              "        -3.88578059e-16, -5.55111512e-16],\n",
              "       [ 0.00000000e+00, -2.22044605e-16,  1.52655666e-16,\n",
              "        -1.11022302e-16,  5.55111512e-17],\n",
              "       [-1.80411242e-16,  6.80011603e-16,  0.00000000e+00,\n",
              "        -3.33066907e-16,  1.66533454e-16],\n",
              "       [-2.22044605e-16, -1.11022302e-16, -2.77555756e-16,\n",
              "        -4.44089210e-16, -3.60822483e-16],\n",
              "       [ 1.11022302e-16, -3.33066907e-16, -4.44089210e-16,\n",
              "         4.71844785e-16, -1.66533454e-16]])"
            ]
          },
          "metadata": {},
          "execution_count": 28
        }
      ]
    },
    {
      "cell_type": "code",
      "source": [
        "(SVD[0] @ SVD[0].T).round(0)"
      ],
      "metadata": {
        "colab": {
          "base_uri": "https://localhost:8080/"
        },
        "id": "vgIM0-75d-Kl",
        "outputId": "737fc3d1-5914-4f1c-8e2b-9ecbd42c0d86"
      },
      "execution_count": null,
      "outputs": [
        {
          "output_type": "execute_result",
          "data": {
            "text/plain": [
              "array([[ 1.,  0., -0., -0., -0.],\n",
              "       [ 0.,  1.,  0.,  0.,  0.],\n",
              "       [-0.,  0.,  1.,  0.,  0.],\n",
              "       [-0.,  0.,  0.,  1.,  0.],\n",
              "       [-0.,  0.,  0.,  0.,  1.]])"
            ]
          },
          "metadata": {},
          "execution_count": 31
        }
      ]
    },
    {
      "cell_type": "code",
      "source": [
        ""
      ],
      "metadata": {
        "id": "JwrXBABieXLv"
      },
      "execution_count": null,
      "outputs": []
    },
    {
      "cell_type": "markdown",
      "source": [
        "#### Zadanie\n",
        "Znajdź rozkład własny i rozkład SVD macierzy $\\begin{bmatrix} 1&2&3\\\\1&2&1\\\\0&1&0\\end{bmatrix}$."
      ],
      "metadata": {
        "id": "plFned5hfC1s"
      }
    },
    {
      "cell_type": "code",
      "source": [
        "np.concatenate([A,A])"
      ],
      "metadata": {
        "colab": {
          "base_uri": "https://localhost:8080/"
        },
        "id": "rtQAZA-afDH5",
        "outputId": "6acbcb11-99e7-4ff2-c97a-918604bcf478"
      },
      "execution_count": null,
      "outputs": [
        {
          "output_type": "execute_result",
          "data": {
            "text/plain": [
              "array([[0.37480706, 0.1869102 , 0.88450454, 0.27218647, 0.60516631],\n",
              "       [0.33508562, 0.25855324, 0.11685219, 0.29841565, 0.45549406],\n",
              "       [0.11779211, 0.08722226, 0.87930126, 0.9910624 , 0.31765611],\n",
              "       [0.95482542, 0.52510547, 0.43718157, 0.7524423 , 0.23630132],\n",
              "       [0.17152261, 0.83530153, 0.70537941, 0.08963202, 0.36817803],\n",
              "       [0.37480706, 0.1869102 , 0.88450454, 0.27218647, 0.60516631],\n",
              "       [0.33508562, 0.25855324, 0.11685219, 0.29841565, 0.45549406],\n",
              "       [0.11779211, 0.08722226, 0.87930126, 0.9910624 , 0.31765611],\n",
              "       [0.95482542, 0.52510547, 0.43718157, 0.7524423 , 0.23630132],\n",
              "       [0.17152261, 0.83530153, 0.70537941, 0.08963202, 0.36817803]])"
            ]
          },
          "metadata": {},
          "execution_count": 32
        }
      ]
    },
    {
      "cell_type": "code",
      "source": [
        "B=np.array([[1,2,3],[1,2,1]])"
      ],
      "metadata": {
        "id": "TdLtO-XLgl7f"
      },
      "execution_count": null,
      "outputs": []
    },
    {
      "cell_type": "code",
      "source": [
        "B_SVD=np.linalg.svd(B)"
      ],
      "metadata": {
        "id": "lsI1CbSmhDd5"
      },
      "execution_count": null,
      "outputs": []
    },
    {
      "cell_type": "code",
      "source": [
        "sigma=np.diag(B_SVD[1])\n",
        "sigma"
      ],
      "metadata": {
        "colab": {
          "base_uri": "https://localhost:8080/"
        },
        "id": "iGigg8rNhHoK",
        "outputId": "e3374eaa-0ab4-4098-ba3f-5a8fd8c76c71"
      },
      "execution_count": null,
      "outputs": [
        {
          "output_type": "execute_result",
          "data": {
            "text/plain": [
              "array([[4.3525018, 0.       ],\n",
              "       [0.       , 1.0274863]])"
            ]
          },
          "metadata": {},
          "execution_count": 38
        }
      ]
    },
    {
      "cell_type": "code",
      "source": [
        "sigma2=np.concatenate([sigma,np.zeros((2,1))],axis=1)"
      ],
      "metadata": {
        "id": "xzza7Tf0hO4O"
      },
      "execution_count": null,
      "outputs": []
    },
    {
      "cell_type": "code",
      "source": [
        "sigma2"
      ],
      "metadata": {
        "colab": {
          "base_uri": "https://localhost:8080/"
        },
        "id": "7j-YAOsihaqX",
        "outputId": "4e4c11b7-0f07-4f56-9e76-8a498958d906"
      },
      "execution_count": null,
      "outputs": [
        {
          "output_type": "execute_result",
          "data": {
            "text/plain": [
              "array([[4.3525018, 0.       , 0.       ],\n",
              "       [0.       , 1.0274863, 0.       ]])"
            ]
          },
          "metadata": {},
          "execution_count": 41
        }
      ]
    },
    {
      "cell_type": "code",
      "source": [
        "B_SVD[0] @ sigma2 @ B_SVD[2]"
      ],
      "metadata": {
        "colab": {
          "base_uri": "https://localhost:8080/"
        },
        "id": "svA4ivcahfcE",
        "outputId": "25e9f4ce-b41e-47d4-90b8-60e999119a2b"
      },
      "execution_count": null,
      "outputs": [
        {
          "output_type": "execute_result",
          "data": {
            "text/plain": [
              "array([[1., 2., 3.],\n",
              "       [1., 2., 1.]])"
            ]
          },
          "metadata": {},
          "execution_count": 42
        }
      ]
    },
    {
      "cell_type": "code",
      "source": [
        ""
      ],
      "metadata": {
        "id": "B9WWxB8tiFDP"
      },
      "execution_count": null,
      "outputs": []
    },
    {
      "cell_type": "markdown",
      "source": [
        "#### Zadanie\n",
        "Oblicz $\\begin{bmatrix} 1&2&3\\\\1&2&1\\\\0&1&0\\end{bmatrix}^{20}$."
      ],
      "metadata": {
        "id": "wpwS5H6Ai8Fm"
      }
    },
    {
      "cell_type": "code",
      "source": [
        "A=np.array([[1,2,3],[1,2,1],[0,1,0]])"
      ],
      "metadata": {
        "id": "ZQAkPQYJi9WD"
      },
      "execution_count": null,
      "outputs": []
    },
    {
      "cell_type": "code",
      "source": [
        "%time np.linalg.matrix_power(A,20)"
      ],
      "metadata": {
        "colab": {
          "base_uri": "https://localhost:8080/"
        },
        "id": "XrDLC9V-jb99",
        "outputId": "54f40f08-4f4b-4c51-f268-045af678fc31"
      },
      "execution_count": null,
      "outputs": [
        {
          "output_type": "stream",
          "name": "stdout",
          "text": [
            "CPU times: user 90 µs, sys: 8 µs, total: 98 µs\n",
            "Wall time: 101 µs\n"
          ]
        },
        {
          "output_type": "execute_result",
          "data": {
            "text/plain": [
              "array([[16968908951, 41687151125, 26786952325],\n",
              "       [14535850675, 35709909551, 22946150525],\n",
              "       [ 4205149925, 10330700750,  6638208201]])"
            ]
          },
          "metadata": {},
          "execution_count": 56
        }
      ]
    },
    {
      "cell_type": "code",
      "source": [
        "%%time\n",
        "A_rozklad=np.linalg.eig(A)\n",
        "JA=np.diag(A_rozklad[0])\n",
        "P=A_rozklad[1]\n",
        "P @ JA**20 @ np.linalg.inv(P)\n"
      ],
      "metadata": {
        "colab": {
          "base_uri": "https://localhost:8080/"
        },
        "id": "tx9CumCvjiLs",
        "outputId": "5d796021-70d7-45a3-ba39-bb7b8ae25bdb"
      },
      "execution_count": null,
      "outputs": [
        {
          "output_type": "stream",
          "name": "stdout",
          "text": [
            "CPU times: user 571 µs, sys: 0 ns, total: 571 µs\n",
            "Wall time: 540 µs\n"
          ]
        }
      ]
    },
    {
      "cell_type": "code",
      "source": [
        ""
      ],
      "metadata": {
        "colab": {
          "base_uri": "https://localhost:8080/"
        },
        "id": "NrAchrOEkjD0",
        "outputId": "695477fd-a9e9-41d0-d674-b0ad6c18ec96"
      },
      "execution_count": null,
      "outputs": [
        {
          "output_type": "execute_result",
          "data": {
            "text/plain": [
              "array([[ 3.45667834+0.j        ,  0.        +0.j        ,\n",
              "         0.        +0.j        ],\n",
              "       [ 0.        +0.j        , -0.22833917+0.72556968j,\n",
              "         0.        +0.j        ],\n",
              "       [ 0.        +0.j        ,  0.        +0.j        ,\n",
              "        -0.22833917-0.72556968j]])"
            ]
          },
          "metadata": {},
          "execution_count": 50
        }
      ]
    },
    {
      "cell_type": "code",
      "source": [
        "\n",
        "P"
      ],
      "metadata": {
        "colab": {
          "base_uri": "https://localhost:8080/"
        },
        "id": "xrvcQK5NkvUV",
        "outputId": "231ece82-0967-4a4d-a04f-788456862bac"
      },
      "execution_count": null,
      "outputs": [
        {
          "output_type": "execute_result",
          "data": {
            "text/plain": [
              "array([[ 0.74635087+0.j        , -0.85289345+0.j        ,\n",
              "        -0.85289345-0.j        ],\n",
              "       [ 0.63933662+0.j        ,  0.21479077+0.23188188j,\n",
              "         0.21479077-0.23188188j],\n",
              "       [ 0.18495693+0.j        ,  0.20602029-0.36086579j,\n",
              "         0.20602029+0.36086579j]])"
            ]
          },
          "metadata": {},
          "execution_count": 52
        }
      ]
    },
    {
      "cell_type": "markdown",
      "source": [
        "## Rozwiązywanie układów równań\n",
        "\n",
        "* ```np.linalg.cond``` - wskaźnik uwarunkowania\n",
        "* ```np.linalg.solve``` - rozwiązywanie"
      ],
      "metadata": {
        "id": "CHqbFAH_mVu4"
      }
    },
    {
      "cell_type": "code",
      "source": [
        "np.linalg.cond(A)"
      ],
      "metadata": {
        "colab": {
          "base_uri": "https://localhost:8080/"
        },
        "id": "cb0Ck2gck1p6",
        "outputId": "c24c1b69-5e4d-44c5-c1ae-9b14a5cea82d"
      },
      "execution_count": null,
      "outputs": [
        {
          "output_type": "execute_result",
          "data": {
            "text/plain": [
              "11.87432495287239"
            ]
          },
          "metadata": {},
          "execution_count": 58
        }
      ]
    },
    {
      "cell_type": "code",
      "source": [
        ""
      ],
      "metadata": {
        "colab": {
          "base_uri": "https://localhost:8080/",
          "height": 130
        },
        "id": "ScZF94KPmkFu",
        "outputId": "48fb1651-248c-4289-a6e2-9269b8450fc2"
      },
      "execution_count": null,
      "outputs": [
        {
          "output_type": "error",
          "ename": "SyntaxError",
          "evalue": "ignored",
          "traceback": [
            "\u001b[0;36m  File \u001b[0;32m\"<ipython-input-59-ab577c694633>\"\u001b[0;36m, line \u001b[0;32m2\u001b[0m\n\u001b[0;31m    Oblicz współczynnik uwarunkowania i rozwiąż układ równań $Ax=b$.\u001b[0m\n\u001b[0m                      ^\u001b[0m\n\u001b[0;31mSyntaxError\u001b[0m\u001b[0;31m:\u001b[0m invalid syntax\n"
          ]
        }
      ]
    },
    {
      "cell_type": "markdown",
      "source": [
        "#### Zadanie \n",
        "Oblicz współczynnik uwarunkowania i rozwiąż układ równań $Ax=b$.\n",
        "\n",
        "$$\n",
        "A=\\begin{bmatrix} 1&0&2\\\\3&2&1\\\\1&1&1 \\end{bmatrix},\\quad b_1=\\begin{bmatrix}20.001\\\\-9.9999\\\\ 100.00001\\end{bmatrix},\\quad  b_2=\\begin{bmatrix}20\\\\-10\\\\ 100\\end{bmatrix}\n",
        "$$"
      ],
      "metadata": {
        "id": "4dW9wyvAnLJb"
      }
    },
    {
      "cell_type": "code",
      "source": [
        "A=np.array([[1,0,2],[3,2,1],[1,1,1]])"
      ],
      "metadata": {
        "id": "ppoAE2lKnIXd"
      },
      "execution_count": null,
      "outputs": []
    },
    {
      "cell_type": "code",
      "source": [
        "np.linalg.cond(A)"
      ],
      "metadata": {
        "colab": {
          "base_uri": "https://localhost:8080/"
        },
        "id": "V69pZj3HnkKw",
        "outputId": "57a16cf1-5279-4a5d-b8eb-e1d085870d6d"
      },
      "execution_count": null,
      "outputs": [
        {
          "output_type": "execute_result",
          "data": {
            "text/plain": [
              "10.617346008950063"
            ]
          },
          "metadata": {},
          "execution_count": 61
        }
      ]
    },
    {
      "cell_type": "code",
      "source": [
        "b1=np.array([20.001,-9.9999,100.00001])\n",
        "b2=np.array([20,-10,100])"
      ],
      "metadata": {
        "id": "zsHJayyynmPt"
      },
      "execution_count": null,
      "outputs": []
    },
    {
      "cell_type": "code",
      "source": [
        "np.linalg.solve(A,b1)"
      ],
      "metadata": {
        "colab": {
          "base_uri": "https://localhost:8080/"
        },
        "id": "phuNCuwHn0Rm",
        "outputId": "a52ea9cf-5a87-4b1d-a12f-4ba680554ace"
      },
      "execution_count": null,
      "outputs": [
        {
          "output_type": "execute_result",
          "data": {
            "text/plain": [
              "array([-133.33294667,  156.66598333,   76.66697333])"
            ]
          },
          "metadata": {},
          "execution_count": 63
        }
      ]
    },
    {
      "cell_type": "code",
      "source": [
        "np.linalg.solve(A,b2)"
      ],
      "metadata": {
        "colab": {
          "base_uri": "https://localhost:8080/"
        },
        "id": "Z5uq5TY-n3sP",
        "outputId": "dc678fab-7a1a-4b40-ab74-95dabb5d6bd1"
      },
      "execution_count": null,
      "outputs": [
        {
          "output_type": "execute_result",
          "data": {
            "text/plain": [
              "array([-133.33333333,  156.66666667,   76.66666667])"
            ]
          },
          "metadata": {},
          "execution_count": 64
        }
      ]
    },
    {
      "cell_type": "code",
      "source": [
        ""
      ],
      "metadata": {
        "id": "Ejk8CcD0n_Lj"
      },
      "execution_count": null,
      "outputs": []
    },
    {
      "cell_type": "markdown",
      "source": [
        "### Zadanie domowe\n",
        "Stowrzyć macierz 3x3 o współczynniku uwarunkowania co najmniej $10000$ i sprawdzić błąd rozwiązania dla b1 i b2"
      ],
      "metadata": {
        "id": "yf8fvK_PoVxQ"
      }
    },
    {
      "cell_type": "code",
      "source": [
        "import numpy as np\n",
        "A=np.array([[1,131313,2],[3,2,1],[1,1,1]])\n"
      ],
      "metadata": {
        "id": "_bzPjUlvodzl"
      },
      "execution_count": 19,
      "outputs": []
    },
    {
      "cell_type": "code",
      "source": [
        "np.linalg.cond(A)"
      ],
      "metadata": {
        "id": "ZmqyLOncpz0C",
        "outputId": "147be928-bb67-445e-d4a3-3dc055e33cd9",
        "colab": {
          "base_uri": "https://localhost:8080/"
        }
      },
      "execution_count": 20,
      "outputs": [
        {
          "output_type": "execute_result",
          "data": {
            "text/plain": [
              "224165.98962784297"
            ]
          },
          "metadata": {},
          "execution_count": 20
        }
      ]
    },
    {
      "cell_type": "code",
      "source": [
        "b1=np.array([20.001,-9.9999,100.00001])\n",
        "b2=np.array([20,-10,100])"
      ],
      "metadata": {
        "id": "wTGHZ-pxp1Tg"
      },
      "execution_count": 21,
      "outputs": []
    },
    {
      "cell_type": "code",
      "source": [
        "j=np.linalg.solve(A,b1)"
      ],
      "metadata": {
        "id": "Wxdv0dZ6p1M8"
      },
      "execution_count": 22,
      "outputs": []
    },
    {
      "cell_type": "code",
      "source": [
        "k=np.linalg.solve(A,b2)"
      ],
      "metadata": {
        "id": "vUSA3BvBp1Db"
      },
      "execution_count": 23,
      "outputs": []
    },
    {
      "cell_type": "code",
      "source": [
        "j"
      ],
      "metadata": {
        "id": "Xw5gQ0kyqSz8",
        "outputId": "42722162-5af5-4a3e-c80a-676df9427cb0",
        "colab": {
          "base_uri": "https://localhost:8080/"
        }
      },
      "execution_count": 24,
      "outputs": [
        {
          "output_type": "execute_result",
          "data": {
            "text/plain": [
              "array([-5.49990602e+01, -1.78962981e-03,  1.55000860e+02])"
            ]
          },
          "metadata": {},
          "execution_count": 24
        }
      ]
    },
    {
      "cell_type": "code",
      "source": [
        "k"
      ],
      "metadata": {
        "id": "UXbqLr_hqSkk",
        "outputId": "4e7af3c8-e557-4430-9c88-9a0162221179",
        "colab": {
          "base_uri": "https://localhost:8080/"
        }
      },
      "execution_count": 25,
      "outputs": [
        {
          "output_type": "execute_result",
          "data": {
            "text/plain": [
              "array([-5.49991052e+01, -1.78963762e-03,  1.55000895e+02])"
            ]
          },
          "metadata": {},
          "execution_count": 25
        }
      ]
    },
    {
      "cell_type": "code",
      "source": [
        "np.abs(j-k)"
      ],
      "metadata": {
        "id": "ZMc3eGjHp05e",
        "outputId": "19661b0a-c3e8-41c7-a803-283987841241",
        "colab": {
          "base_uri": "https://localhost:8080/"
        }
      },
      "execution_count": 26,
      "outputs": [
        {
          "output_type": "execute_result",
          "data": {
            "text/plain": [
              "array([4.49960971e-05, 7.80586620e-09, 3.50039030e-05])"
            ]
          },
          "metadata": {},
          "execution_count": 26
        }
      ]
    },
    {
      "cell_type": "markdown",
      "source": [
        "#### Zadanie dla chętnych (łańcuch Markowa)\n",
        "$P=\\begin{bmatrix} 1&0&0&0&0&0\\\\0&1&0&0&0&0\\\\p&q&r&0&0&0\\\\p&0&q&r&0&0\\\\p&0&0&q&r&0\\\\p&0&0&0&q&r \\end{bmatrix}$\n",
        "\n",
        "\n",
        "\n",
        "Macierz P opisuje prawdopodobieństwa przejść między pięcioma stanami: wyrzucony ze studiów, ukończył studia, po 4 roku, po 3 roku, po 2 roku, po 1 roku. (np. ze stanu nr 6 do stanu nr 5 prawdop. = q). Przyjmijmy p=0.2, q=0.7, r=0.1.\n",
        "\n",
        "* Oblicz prawdopodobieństwo, że jeśli ukończyłeś pierwszy rok, to ukończysz całe studia.\n",
        "\n",
        "* Zauważ w macierzy $P$ blokową strukturę: $P=\\begin{bmatrix} Id & 0 \\\\ R & Q \\end{bmatrix}$. Porównaj poprzedni wynik z wynikiem mnożenia $(Id-Q)^{-1} R$."
      ],
      "metadata": {
        "id": "hiX5IPxeqFrT"
      }
    },
    {
      "cell_type": "code",
      "source": [
        ""
      ],
      "metadata": {
        "id": "zmwDJuw1qHe2"
      },
      "execution_count": null,
      "outputs": []
    }
  ]
}